{
 "cells": [
  {
   "cell_type": "code",
   "execution_count": 1,
   "id": "24f12c39",
   "metadata": {},
   "outputs": [],
   "source": [
    "import os"
   ]
  },
  {
   "cell_type": "code",
   "execution_count": 2,
   "id": "69600441",
   "metadata": {},
   "outputs": [
    {
     "data": {
      "text/plain": [
       "'c:\\\\Users\\\\ainao\\\\Downloads\\\\Projects\\\\Bulldozer-Prediction\\\\research'"
      ]
     },
     "execution_count": 2,
     "metadata": {},
     "output_type": "execute_result"
    }
   ],
   "source": [
    "%pwd"
   ]
  },
  {
   "cell_type": "code",
   "execution_count": 3,
   "id": "6791ab56",
   "metadata": {},
   "outputs": [],
   "source": [
    "os.chdir(\"../\")"
   ]
  },
  {
   "cell_type": "code",
   "execution_count": 4,
   "id": "620ef0a1",
   "metadata": {},
   "outputs": [
    {
     "data": {
      "text/plain": [
       "'c:\\\\Users\\\\ainao\\\\Downloads\\\\Projects\\\\Bulldozer-Prediction'"
      ]
     },
     "execution_count": 4,
     "metadata": {},
     "output_type": "execute_result"
    }
   ],
   "source": [
    "%pwd"
   ]
  },
  {
   "cell_type": "code",
   "execution_count": 5,
   "id": "ac384239",
   "metadata": {},
   "outputs": [],
   "source": [
    "from dataclasses import dataclass\n",
    "from pathlib import Path\n",
    "@dataclass(frozen=True)\n",
    "class DataTransformationConfig:\n",
    "      root_dir: Path\n",
    "      train_path: Path\n",
    "      test_path:Path\n",
    "      train_data: Path\n",
    "      test_data:Path\n",
    "      preprocessor: Path\n"
   ]
  },
  {
   "cell_type": "code",
   "execution_count": 6,
   "id": "98a01e54",
   "metadata": {},
   "outputs": [],
   "source": [
    "from bullprediction.utils.common import create_directories, read_yaml\n",
    "from bullprediction.constants import *"
   ]
  },
  {
   "cell_type": "code",
   "execution_count": 7,
   "id": "9adb5df9",
   "metadata": {},
   "outputs": [],
   "source": [
    "class ConfigurationManager:\n",
    "    def __init__(\n",
    "        self,\n",
    "        config_filepath = CONFIG_FILE_PATH):\n",
    "\n",
    "        self.config = read_yaml(config_filepath)\n",
    "\n",
    "        create_directories([self.config.artifacts_root])\n",
    "\n",
    "    def get_data_transformation(self) -> DataTransformationConfig:\n",
    "        config = self.config.data_transformation\n",
    "\n",
    "        create_directories([config.root_dir])\n",
    "\n",
    "        data_transformation_config = DataTransformationConfig(\n",
    "        root_dir = config.root_dir,\n",
    "        train_path = config.train_path,\n",
    "        test_path = config.test_path,\n",
    "        train_data = config.train_data,\n",
    "        test_data = config.test_data,\n",
    "        preprocessor = config.preprocessor\n",
    "        )\n",
    "\n",
    "        return data_transformation_config   "
   ]
  },
  {
   "cell_type": "code",
   "execution_count": 8,
   "id": "f4dfad0d",
   "metadata": {},
   "outputs": [],
   "source": [
    "import numpy as np\n",
    "import pandas as pd\n",
    "from sklearn.compose import ColumnTransformer\n",
    "from sklearn.impute import SimpleImputer\n",
    "from sklearn.pipeline import Pipeline\n",
    "from sklearn.preprocessing import OrdinalEncoder\n",
    "import logging\n",
    "from bullprediction.utils.common import save_object\n",
    "\n"
   ]
  },
  {
   "cell_type": "code",
   "execution_count": 9,
   "id": "64a487f8",
   "metadata": {},
   "outputs": [],
   "source": [
    "class DataTransformation:\n",
    "    def __init__(self,config: DataTransformationConfig):\n",
    "        self.config = config\n",
    "\n",
    "    def build_preprocessor(self, df: pd.DataFrame):\n",
    "        df = df.drop(columns=[\"SalePrice\"], errors=\"ignore\")\n",
    "\n",
    "    # Identify numerical and categorical columns\n",
    "        num_cols = df.select_dtypes(include=[\"int64\", \"float64\"]).columns.tolist()\n",
    "        cat_cols = df.select_dtypes(include=[\"object\", \"category\"]).columns.tolist()\n",
    "\n",
    "    # Define transformers\n",
    "        num_transformer = SimpleImputer(strategy=\"median\")\n",
    "        cat_transformer = Pipeline([\n",
    "        (\"imputer\", SimpleImputer(strategy=\"constant\", fill_value=\"missing\")),\n",
    "        (\"encoder\", OrdinalEncoder(handle_unknown=\"use_encoded_value\", unknown_value=-1))\n",
    "         ])\n",
    "\n",
    "    # Build column transformer\n",
    "        preprocessor = ColumnTransformer([\n",
    "        (\"num\", num_transformer, num_cols),\n",
    "        (\"cat\", cat_transformer, cat_cols)\n",
    "    ])\n",
    "\n",
    "        return preprocessor\n",
    "\n",
    "    def initiate_data_transformation_and_split(self):\n",
    "        train_df = pd.read_csv(self.config.train_path, low_memory=False)\n",
    "        test_df = pd.read_csv(self.config.test_path,low_memory=False)\n",
    "\n",
    "        valid_data = train_df[train_df.saleYear ==2012]\n",
    "        train_data = train_df[train_df.saleYear!=2012]\n",
    "\n",
    "        target_column_name = 'SalePrice'\n",
    "\n",
    "        input_feature_train_data = train_data.drop(columns=[target_column_name])\n",
    "        input_feature_valid_data = valid_data.drop(columns=[target_column_name])\n",
    "\n",
    "        target_feature_train_data = train_data[target_column_name]\n",
    "        target_feature_valid_data = valid_data[target_column_name]\n",
    "\n",
    "\n",
    "        input_feature_test_df = test_df\n",
    "\n",
    "        #preprocessing_obj = self.build_preprocessor(input_feature_train_data)\n",
    "\n",
    "        logging.info(\"Applying preprocessing pipeline to train and test data.\")\n",
    "\n",
    "        sample_train = input_feature_train_data.iloc[:100]\n",
    "        sample_valid = input_feature_valid_data.iloc[:100]\n",
    "        sample_target_train =  target_feature_train_data.iloc[:100]\n",
    "        sample_target_valid =  target_feature_valid_data.iloc[:100]\n",
    "\n",
    "        preprocessing_obj = self.build_preprocessor(sample_train)\n",
    "        sample_train_processed = preprocessing_obj.fit_transform(sample_train)\n",
    "        sample_valid_processed = preprocessing_obj.transform(sample_valid)\n",
    "        sample_test = input_feature_test_df.iloc[:100]\n",
    "\n",
    "        # input_feature_train_processed = preprocessing_obj.fit_transform(input_feature_train_data)\n",
    "        # input_feature_val_processed = preprocessing_obj.transform(input_feature_valid_data)\n",
    "        input_feature_test_processed = preprocessing_obj.transform(sample_test)\n",
    "\n",
    "        save_object(\n",
    "                file_path=self.config.preprocessor,\n",
    "                obj=preprocessing_obj\n",
    "            )\n",
    "    \n",
    "        return (sample_train_processed, sample_valid_processed, \n",
    "                input_feature_test_processed, sample_target_train,\n",
    "                sample_target_valid, self.config.preprocessor)    \n",
    "\n",
    "    "
   ]
  },
  {
   "cell_type": "code",
   "execution_count": 10,
   "id": "0234a275",
   "metadata": {},
   "outputs": [
    {
     "name": "stdout",
     "output_type": "stream",
     "text": [
      "[2025-06-28 14:30:20,907: INFO: common: yaml file: config\\config.yaml loaded successfully]\n",
      "[2025-06-28 14:30:20,911: INFO: common: created directory at: artifacts]\n",
      "[2025-06-28 14:30:20,914: INFO: common: created directory at: artifacts/data_transformation]\n",
      "[2025-06-28 14:30:23,964: INFO: 2144867838: Applying preprocessing pipeline to train and test data.]\n"
     ]
    },
    {
     "name": "stderr",
     "output_type": "stream",
     "text": [
      "c:\\Users\\ainao\\Downloads\\Projects\\Bulldozer-Prediction\\bull\\lib\\site-packages\\sklearn\\impute\\_base.py:637: UserWarning: Skipping features without any observed values: ['MachineHoursCurrentMeter']. At least one non-missing value is needed for imputation with strategy='median'.\n",
      "  warnings.warn(\n",
      "c:\\Users\\ainao\\Downloads\\Projects\\Bulldozer-Prediction\\bull\\lib\\site-packages\\sklearn\\impute\\_base.py:574: FutureWarning: Currently, when `keep_empty_feature=False` and `strategy=\"constant\"`, empty features are not dropped. This behaviour will change in version 1.8. Set `keep_empty_feature=True` to preserve this behaviour.\n",
      "  warnings.warn(\n",
      "c:\\Users\\ainao\\Downloads\\Projects\\Bulldozer-Prediction\\bull\\lib\\site-packages\\sklearn\\impute\\_base.py:637: UserWarning: Skipping features without any observed values: ['MachineHoursCurrentMeter']. At least one non-missing value is needed for imputation with strategy='median'.\n",
      "  warnings.warn(\n",
      "c:\\Users\\ainao\\Downloads\\Projects\\Bulldozer-Prediction\\bull\\lib\\site-packages\\sklearn\\impute\\_base.py:637: UserWarning: Skipping features without any observed values: ['MachineHoursCurrentMeter']. At least one non-missing value is needed for imputation with strategy='median'.\n",
      "  warnings.warn(\n"
     ]
    }
   ],
   "source": [
    "try:\n",
    "    config = ConfigurationManager()\n",
    "    data_transformation_config = config.get_data_transformation()\n",
    "    data_transformation = DataTransformation(config=data_transformation_config)\n",
    "    data_transformation.initiate_data_transformation_and_split()\n",
    "except Exception as e:\n",
    "    raise e"
   ]
  },
  {
   "cell_type": "code",
   "execution_count": null,
   "id": "9eb7e176",
   "metadata": {},
   "outputs": [],
   "source": []
  },
  {
   "cell_type": "code",
   "execution_count": null,
   "id": "872d4835",
   "metadata": {},
   "outputs": [],
   "source": []
  }
 ],
 "metadata": {
  "kernelspec": {
   "display_name": "Python 3",
   "language": "python",
   "name": "python3"
  },
  "language_info": {
   "codemirror_mode": {
    "name": "ipython",
    "version": 3
   },
   "file_extension": ".py",
   "mimetype": "text/x-python",
   "name": "python",
   "nbconvert_exporter": "python",
   "pygments_lexer": "ipython3",
   "version": "3.10.18"
  }
 },
 "nbformat": 4,
 "nbformat_minor": 5
}
