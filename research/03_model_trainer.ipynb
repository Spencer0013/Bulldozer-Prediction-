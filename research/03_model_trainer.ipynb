{
 "cells": [
  {
   "cell_type": "code",
   "execution_count": 1,
   "id": "e4094498",
   "metadata": {},
   "outputs": [],
   "source": [
    "import os"
   ]
  },
  {
   "cell_type": "code",
   "execution_count": 2,
   "id": "5026490e",
   "metadata": {},
   "outputs": [
    {
     "data": {
      "text/plain": [
       "'c:\\\\Users\\\\ainao\\\\Downloads\\\\Projects\\\\Bulldozer-Prediction\\\\research'"
      ]
     },
     "execution_count": 2,
     "metadata": {},
     "output_type": "execute_result"
    }
   ],
   "source": [
    "%pwd"
   ]
  },
  {
   "cell_type": "code",
   "execution_count": 3,
   "id": "e9e74501",
   "metadata": {},
   "outputs": [],
   "source": [
    "os.chdir(\"../\")"
   ]
  },
  {
   "cell_type": "code",
   "execution_count": 4,
   "id": "ba26386f",
   "metadata": {},
   "outputs": [
    {
     "data": {
      "text/plain": [
       "'c:\\\\Users\\\\ainao\\\\Downloads\\\\Projects\\\\Bulldozer-Prediction'"
      ]
     },
     "execution_count": 4,
     "metadata": {},
     "output_type": "execute_result"
    }
   ],
   "source": [
    "%pwd"
   ]
  },
  {
   "cell_type": "code",
   "execution_count": 5,
   "id": "6561482b",
   "metadata": {},
   "outputs": [],
   "source": [
    "from dataclasses import dataclass\n",
    "from pathlib import Path\n",
    "@dataclass\n",
    "class ModelTrainerConfig:\n",
    "    root_dir : Path\n",
    "    model_save_path : Path\n",
    "\n"
   ]
  },
  {
   "cell_type": "code",
   "execution_count": 6,
   "id": "f756052f",
   "metadata": {},
   "outputs": [],
   "source": [
    "from bullprediction.utils.common import create_directories, read_yaml\n",
    "from bullprediction.constants import *\n",
    "from bullprediction.entity import DataTransformationConfig"
   ]
  },
  {
   "cell_type": "code",
   "execution_count": 7,
   "id": "a86b47b8",
   "metadata": {},
   "outputs": [],
   "source": [
    "class ConfigurationManager:\n",
    "    def __init__(self, config_filepath=CONFIG_FILE_PATH):\n",
    "        self.config = read_yaml(config_filepath)\n",
    "        create_directories([self.config.artifacts_root])\n",
    "\n",
    "    def get_data_transformation(self) -> DataTransformationConfig:\n",
    "        config = self.config.data_transformation\n",
    "\n",
    "        create_directories([config.root_dir])\n",
    "\n",
    "        data_transformation_config = DataTransformationConfig(\n",
    "            root_dir=config.root_dir,\n",
    "            train_path=config.train_path,\n",
    "            test_path=config.test_path,\n",
    "            train_data=config.train_data,\n",
    "            test_data=config.test_data,\n",
    "            preprocessor=config.preprocessor\n",
    "        )\n",
    "\n",
    "        return data_transformation_config\n",
    "\n",
    "    def get_model_trainer(self) -> ModelTrainerConfig:\n",
    "        config = self.config.model_trainer\n",
    "\n",
    "        create_directories([config.root_dir])\n",
    "\n",
    "        model_trainer_config = ModelTrainerConfig(\n",
    "            root_dir=config.root_dir,\n",
    "            model_save_path=config.model_save_path\n",
    "        )\n",
    "\n",
    "        return model_trainer_config\n"
   ]
  },
  {
   "cell_type": "code",
   "execution_count": 8,
   "id": "3533696a",
   "metadata": {},
   "outputs": [],
   "source": [
    "from bullprediction.entity import DataTransformationConfig\n",
    "from bullprediction.conponents.data_transformation import DataTransformation\n",
    "import os\n",
    "import joblib\n",
    "from sklearn.linear_model import LinearRegression, Lasso, Ridge\n",
    "from sklearn.neighbors import KNeighborsRegressor\n",
    "from sklearn.tree import DecisionTreeRegressor\n",
    "from sklearn.ensemble import (\n",
    "    RandomForestRegressor,\n",
    "    AdaBoostRegressor,\n",
    "    GradientBoostingRegressor\n",
    ")\n",
    "from xgboost import XGBRegressor\n",
    "from catboost import CatBoostRegressor\n",
    "from sklearn.metrics import mean_squared_log_error\n",
    "import numpy as np\n",
    "from bullprediction.utils.common import save_object"
   ]
  },
  {
   "cell_type": "code",
   "execution_count": 9,
   "id": "6d675a73",
   "metadata": {},
   "outputs": [],
   "source": [
    "class ModelTrainer:\n",
    "    def __init__(self,config: ModelTrainerConfig, data_transformer:DataTransformation):\n",
    "        self.config = config\n",
    "        self.data_transformer = data_transformer\n",
    "\n",
    "    def train(self):\n",
    "        (\n",
    "                sample_train_processed,\n",
    "                sample_valid_processed,\n",
    "                input_feature_test_processed,\n",
    "                sample_target_train,\n",
    "                sample_target_valid,\n",
    "                preprocessor_path\n",
    "        ) = self.data_transformer.initiate_data_transformation_and_split()\n",
    "\n",
    "        models = {\n",
    "        \"Linear Regression\": LinearRegression(),\n",
    "        \"Lasso\": Lasso(random_state=42),\n",
    "        \"Ridge\": Ridge(random_state=42),\n",
    "        \"K-Neighbors Regressor\": KNeighborsRegressor(),\n",
    "        \"Decision Tree\": DecisionTreeRegressor(random_state=42),\n",
    "        \"Random Forest Regressor\": RandomForestRegressor(random_state=42),\n",
    "        \"XGBRegressor\": XGBRegressor(random_state=42), \n",
    "        \"CatBoosting Regressor\": CatBoostRegressor(verbose=False,random_state=42),\n",
    "        \"AdaBoost Regressor\": AdaBoostRegressor(random_state=42),\n",
    "        \"Gradient Boosting Regressor\" : GradientBoostingRegressor(random_state=42),\n",
    "         }\n",
    "    \n",
    "        best_model = None\n",
    "        best_model_name = \"\"\n",
    "        best_rmsle = float(\"inf\")\n",
    "        scores = {}\n",
    "\n",
    "        for name, model in models.items():\n",
    "            model.fit(sample_train_processed, sample_target_train)\n",
    "            y_pred = model.predict(sample_valid_processed)\n",
    "\n",
    "        # Clip predictions and true values to avoid negative values or zeros (log issue)\n",
    "            y_pred_clip = np.clip(y_pred, a_min=0, a_max=None)\n",
    "            y_val_clip = np.clip(sample_target_valid, a_min=0, a_max=None)\n",
    "\n",
    "            rmsle = np.sqrt(mean_squared_log_error(y_val_clip, y_pred_clip))\n",
    "            scores[name] = rmsle\n",
    "\n",
    "            if rmsle < best_rmsle:\n",
    "                best_rmsle = rmsle\n",
    "                best_model = model\n",
    "                best_model_name = name\n",
    "\n",
    "            print(f\"[ModelTrainer] Best Model: {best_model_name} | RMSLE: {best_rmsle:.6f}\")\n",
    "\n",
    "        if self.config.model_save_path:\n",
    "                save_object(self.config.model_save_path, best_model)\n",
    "                print(f\"Best model saved to: {self.config.model_save_path}\")\n",
    "        \n",
    "        return {\n",
    "            \"best_model\": best_model,\n",
    "            \"best_model_name\": best_model_name,\n",
    "            \"best_rmsle\": best_rmsle,\n",
    "            \"all_rmsle_scores\": scores,\n",
    "            \"X_train\": sample_train_processed,\n",
    "            \"y_train\": sample_target_train,\n",
    "            \"X_val\": sample_valid_processed,\n",
    "            \"y_val\": sample_target_valid,\n",
    "            \"X_test\": input_feature_test_processed,\n",
    "            \"preprocessor_path\": preprocessor_path\n",
    "           }\n",
    "\n",
    "         \n",
    "         \n",
    "\n",
    "\n",
    "        \n"
   ]
  },
  {
   "cell_type": "code",
   "execution_count": 10,
   "id": "4d389382",
   "metadata": {},
   "outputs": [
    {
     "name": "stdout",
     "output_type": "stream",
     "text": [
      "[2025-06-28 14:30:40,645: INFO: common: yaml file: config\\config.yaml loaded successfully]\n",
      "[2025-06-28 14:30:40,650: INFO: common: created directory at: artifacts]\n",
      "[2025-06-28 14:30:40,652: INFO: common: created directory at: artifacts/data_transformation]\n"
     ]
    },
    {
     "name": "stdout",
     "output_type": "stream",
     "text": [
      "[2025-06-28 14:30:40,653: INFO: common: created directory at: artifacts/model_trainer]\n",
      "[2025-06-28 14:30:44,295: INFO: data_transformation: Applying preprocessing pipeline to train and test data.]\n"
     ]
    },
    {
     "name": "stderr",
     "output_type": "stream",
     "text": [
      "c:\\Users\\ainao\\Downloads\\Projects\\Bulldozer-Prediction\\bull\\lib\\site-packages\\sklearn\\impute\\_base.py:637: UserWarning: Skipping features without any observed values: ['MachineHoursCurrentMeter']. At least one non-missing value is needed for imputation with strategy='median'.\n",
      "  warnings.warn(\n",
      "c:\\Users\\ainao\\Downloads\\Projects\\Bulldozer-Prediction\\bull\\lib\\site-packages\\sklearn\\impute\\_base.py:574: FutureWarning: Currently, when `keep_empty_feature=False` and `strategy=\"constant\"`, empty features are not dropped. This behaviour will change in version 1.8. Set `keep_empty_feature=True` to preserve this behaviour.\n",
      "  warnings.warn(\n",
      "c:\\Users\\ainao\\Downloads\\Projects\\Bulldozer-Prediction\\bull\\lib\\site-packages\\sklearn\\impute\\_base.py:637: UserWarning: Skipping features without any observed values: ['MachineHoursCurrentMeter']. At least one non-missing value is needed for imputation with strategy='median'.\n",
      "  warnings.warn(\n",
      "c:\\Users\\ainao\\Downloads\\Projects\\Bulldozer-Prediction\\bull\\lib\\site-packages\\sklearn\\impute\\_base.py:637: UserWarning: Skipping features without any observed values: ['MachineHoursCurrentMeter']. At least one non-missing value is needed for imputation with strategy='median'.\n",
      "  warnings.warn(\n"
     ]
    },
    {
     "name": "stdout",
     "output_type": "stream",
     "text": [
      "[ModelTrainer] Best Model: Linear Regression | RMSLE: 6.124255\n",
      "[ModelTrainer] Best Model: Lasso | RMSLE: 6.121916\n",
      "[ModelTrainer] Best Model: Ridge | RMSLE: 6.101537\n"
     ]
    },
    {
     "name": "stderr",
     "output_type": "stream",
     "text": [
      "c:\\Users\\ainao\\Downloads\\Projects\\Bulldozer-Prediction\\bull\\lib\\site-packages\\sklearn\\linear_model\\_coordinate_descent.py:695: ConvergenceWarning: Objective did not converge. You might want to increase the number of iterations, check the scale of the features or consider increasing regularisation. Duality gap: 8.507e+09, tolerance: 5.203e+06\n",
      "  model = cd_fast.enet_coordinate_descent(\n"
     ]
    },
    {
     "name": "stdout",
     "output_type": "stream",
     "text": [
      "[ModelTrainer] Best Model: K-Neighbors Regressor | RMSLE: 0.854792\n",
      "[ModelTrainer] Best Model: Decision Tree | RMSLE: 0.748166\n",
      "[ModelTrainer] Best Model: Decision Tree | RMSLE: 0.748166\n",
      "[ModelTrainer] Best Model: XGBRegressor | RMSLE: 0.685127\n",
      "[ModelTrainer] Best Model: CatBoosting Regressor | RMSLE: 0.614887\n",
      "[ModelTrainer] Best Model: CatBoosting Regressor | RMSLE: 0.614887\n",
      "[ModelTrainer] Best Model: CatBoosting Regressor | RMSLE: 0.614887\n",
      "Best model saved to: artifacts/model_trainer/model.pkl\n"
     ]
    }
   ],
   "source": [
    "try:\n",
    "    config = ConfigurationManager()\n",
    "    data_transformation_config = config.get_data_transformation()\n",
    "    data_transformer = DataTransformation(config=data_transformation_config)\n",
    "    model_trainer_config = config.get_model_trainer()\n",
    "    model_trainer = ModelTrainer(config=model_trainer_config, data_transformer=data_transformer)\n",
    "    model_trainer.train()\n",
    "except Exception as e:\n",
    "    raise e"
   ]
  },
  {
   "cell_type": "code",
   "execution_count": null,
   "id": "eaa144b9",
   "metadata": {},
   "outputs": [],
   "source": []
  }
 ],
 "metadata": {
  "kernelspec": {
   "display_name": "Python 3",
   "language": "python",
   "name": "python3"
  },
  "language_info": {
   "codemirror_mode": {
    "name": "ipython",
    "version": 3
   },
   "file_extension": ".py",
   "mimetype": "text/x-python",
   "name": "python",
   "nbconvert_exporter": "python",
   "pygments_lexer": "ipython3",
   "version": "3.10.18"
  }
 },
 "nbformat": 4,
 "nbformat_minor": 5
}
