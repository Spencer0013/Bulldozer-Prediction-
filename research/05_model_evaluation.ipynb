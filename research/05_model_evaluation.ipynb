{
 "cells": [
  {
   "cell_type": "code",
   "execution_count": 1,
   "id": "c22654fc",
   "metadata": {},
   "outputs": [],
   "source": [
    "import os"
   ]
  },
  {
   "cell_type": "code",
   "execution_count": 2,
   "id": "8f48d54d",
   "metadata": {},
   "outputs": [
    {
     "data": {
      "text/plain": [
       "'c:\\\\Users\\\\ainao\\\\Downloads\\\\Projects\\\\Bulldozer-Prediction\\\\research'"
      ]
     },
     "execution_count": 2,
     "metadata": {},
     "output_type": "execute_result"
    }
   ],
   "source": [
    "%pwd"
   ]
  },
  {
   "cell_type": "code",
   "execution_count": 3,
   "id": "5bf83ba6",
   "metadata": {},
   "outputs": [],
   "source": [
    "os.chdir(\"../\")"
   ]
  },
  {
   "cell_type": "code",
   "execution_count": 4,
   "id": "a99a8d37",
   "metadata": {},
   "outputs": [
    {
     "data": {
      "text/plain": [
       "'c:\\\\Users\\\\ainao\\\\Downloads\\\\Projects\\\\Bulldozer-Prediction'"
      ]
     },
     "execution_count": 4,
     "metadata": {},
     "output_type": "execute_result"
    }
   ],
   "source": [
    "%pwd"
   ]
  },
  {
   "cell_type": "code",
   "execution_count": 5,
   "id": "1e381662",
   "metadata": {},
   "outputs": [],
   "source": [
    "from dataclasses import dataclass\n",
    "from pathlib import Path\n",
    "@dataclass\n",
    "class ModelEvaluationConfig:\n",
    "    root_dir : Path\n",
    "    best_model_path: Path\n",
    "    save_path : Path\n",
    "    "
   ]
  },
  {
   "cell_type": "code",
   "execution_count": 6,
   "id": "29552d1c",
   "metadata": {},
   "outputs": [],
   "source": [
    "from bullprediction.utils.common import read_yaml\n",
    "from bullprediction.constants import *\n",
    "from bullprediction.utils.common import create_directories, save_object\n",
    "from bullprediction.entity import DataTransformationConfig"
   ]
  },
  {
   "cell_type": "code",
   "execution_count": 7,
   "id": "db229b06",
   "metadata": {},
   "outputs": [],
   "source": [
    "class ConfigurationManager:\n",
    "    def __init__(self, config_filepath=CONFIG_FILE_PATH):\n",
    "        self.config = read_yaml(config_filepath)\n",
    "        create_directories([self.config.artifacts_root])\n",
    "\n",
    "    def get_data_transformation(self) -> DataTransformationConfig:\n",
    "        config = self.config.data_transformation\n",
    "\n",
    "        create_directories([config.root_dir])\n",
    "\n",
    "        data_transformation_config = DataTransformationConfig(\n",
    "            root_dir=config.root_dir,\n",
    "            train_path=config.train_path,\n",
    "            test_path=config.test_path,\n",
    "            train_data=config.train_data,\n",
    "            test_data=config.test_data,\n",
    "            preprocessor=config.preprocessor\n",
    "        )\n",
    "\n",
    "        return data_transformation_config\n",
    "\n",
    "\n",
    "    def get_model_evaluation(self) -> ModelEvaluationConfig:\n",
    "        \n",
    "        config = self.config.model_tuner.model_evaluation\n",
    "\n",
    "        create_directories([config.root_dir])\n",
    "\n",
    "        model_evaluation_config = ModelEvaluationConfig(\n",
    "        root_dir=config.root_dir,\n",
    "        best_model_path = config.best_model_path,\n",
    "        save_path = config.save_path\n",
    "         )\n",
    "\n",
    "        return model_evaluation_config\n",
    "\n",
    "        \n",
    "\n",
    "    "
   ]
  },
  {
   "cell_type": "code",
   "execution_count": 8,
   "id": "c9cffc52",
   "metadata": {},
   "outputs": [],
   "source": [
    "from pathlib import Path\n",
    "from bullprediction.utils.common import save_json  \n",
    "import numpy as np\n",
    "from sklearn.metrics import mean_squared_log_error\n",
    "from bullprediction.conponents.data_transformation import DataTransformation\n",
    "import joblib  # for loading the model\n",
    "import os\n",
    "import json\n"
   ]
  },
  {
   "cell_type": "code",
   "execution_count": 9,
   "id": "88fb52c4",
   "metadata": {},
   "outputs": [],
   "source": [
    "\n",
    "class ModelEvaluator:\n",
    "    def __init__(self, config:ModelEvaluationConfig, data_transformer:DataTransformation):\n",
    "        self.config = config\n",
    "        self.data_transformer = data_transformer\n",
    "        self.save_path = config.save_path\n",
    "        self.model = self._load_model(config.best_model_path)\n",
    "\n",
    "    def _load_model(self, model_path):\n",
    "        if not os.path.exists(model_path):\n",
    "            raise FileNotFoundError(f\"Model file not found at {model_path}\")\n",
    "        return joblib.load(model_path)\n",
    "\n",
    "    def _rmsle(self, y_true, y_pred):\n",
    "        \"\"\"Compute Root Mean Squared Log Error (RMSLE).\"\"\"\n",
    "        y_true = np.clip(y_true, a_min=0, a_max=None)\n",
    "        y_pred = np.clip(y_pred, a_min=0, a_max=None)\n",
    "        return np.sqrt(mean_squared_log_error(y_true, y_pred))\n",
    "    \n",
    "    def evaluate(self):\n",
    "        (\n",
    "            X_train,\n",
    "            X_val,\n",
    "            X_test,\n",
    "            y_train,\n",
    "            y_val,\n",
    "            preprocessor_path\n",
    "        ) = self.data_transformer.initiate_data_transformation_and_split()\n",
    "\n",
    "        y_val_pred = self.model.predict(X_val)\n",
    "        val_rmsle = self._rmsle(y_val, y_val_pred)\n",
    "\n",
    "        results = {\"validation_rmsle\": val_rmsle}\n",
    "        print(f\"[ModelEvaluator] Validation RMSLE: {val_rmsle:.4f}\")\n",
    "\n",
    "        if self.save_path:\n",
    "            save_json(Path(self.save_path), results)\n",
    "            print(f\"[ModelEvaluator] Results saved to {self.save_path}\")\n",
    "\n",
    "        return results\n",
    "    \n"
   ]
  },
  {
   "cell_type": "code",
   "execution_count": 10,
   "id": "c4f39094",
   "metadata": {},
   "outputs": [
    {
     "name": "stdout",
     "output_type": "stream",
     "text": [
      "[2025-06-28 15:36:05,940: INFO: common: yaml file: config\\config.yaml loaded successfully]\n",
      "[2025-06-28 15:36:05,940: INFO: common: created directory at: artifacts]\n",
      "[2025-06-28 15:36:05,940: INFO: common: created directory at: artifacts/data_transformation]\n",
      "[2025-06-28 15:36:05,940: INFO: common: created directory at: artifacts/model_evaluation]\n",
      "[2025-06-28 15:36:09,225: INFO: data_transformation: Applying preprocessing pipeline to train and test data.]\n"
     ]
    },
    {
     "name": "stderr",
     "output_type": "stream",
     "text": [
      "c:\\Users\\ainao\\Downloads\\Projects\\Bulldozer-Prediction\\bull\\lib\\site-packages\\sklearn\\impute\\_base.py:637: UserWarning: Skipping features without any observed values: ['MachineHoursCurrentMeter']. At least one non-missing value is needed for imputation with strategy='median'.\n",
      "  warnings.warn(\n",
      "c:\\Users\\ainao\\Downloads\\Projects\\Bulldozer-Prediction\\bull\\lib\\site-packages\\sklearn\\impute\\_base.py:574: FutureWarning: Currently, when `keep_empty_feature=False` and `strategy=\"constant\"`, empty features are not dropped. This behaviour will change in version 1.8. Set `keep_empty_feature=True` to preserve this behaviour.\n",
      "  warnings.warn(\n",
      "c:\\Users\\ainao\\Downloads\\Projects\\Bulldozer-Prediction\\bull\\lib\\site-packages\\sklearn\\impute\\_base.py:637: UserWarning: Skipping features without any observed values: ['MachineHoursCurrentMeter']. At least one non-missing value is needed for imputation with strategy='median'.\n",
      "  warnings.warn(\n",
      "c:\\Users\\ainao\\Downloads\\Projects\\Bulldozer-Prediction\\bull\\lib\\site-packages\\sklearn\\impute\\_base.py:637: UserWarning: Skipping features without any observed values: ['MachineHoursCurrentMeter']. At least one non-missing value is needed for imputation with strategy='median'.\n",
      "  warnings.warn(\n"
     ]
    },
    {
     "name": "stdout",
     "output_type": "stream",
     "text": [
      "[ModelEvaluator] Validation RMSLE: 0.6328\n",
      "[2025-06-28 15:36:09,499: INFO: common: json file saved at: artifacts\\model_evaluation\\evaluation_results.json]\n",
      "[ModelEvaluator] Results saved to artifacts/model_evaluation/evaluation_results.json\n"
     ]
    }
   ],
   "source": [
    "try:\n",
    "    config = ConfigurationManager()\n",
    "    data_transformation_config = config.get_data_transformation()\n",
    "    data_transformer = DataTransformation(config=data_transformation_config)\n",
    "    model_evaluation_config = config.get_model_evaluation()\n",
    "    model_evaluation= ModelEvaluator(config=model_evaluation_config, data_transformer=data_transformer)\n",
    "    model_evaluation.evaluate()\n",
    "except Exception as e:\n",
    "    raise e"
   ]
  }
 ],
 "metadata": {
  "kernelspec": {
   "display_name": "Python 3",
   "language": "python",
   "name": "python3"
  },
  "language_info": {
   "codemirror_mode": {
    "name": "ipython",
    "version": 3
   },
   "file_extension": ".py",
   "mimetype": "text/x-python",
   "name": "python",
   "nbconvert_exporter": "python",
   "pygments_lexer": "ipython3",
   "version": "3.10.18"
  }
 },
 "nbformat": 4,
 "nbformat_minor": 5
}
