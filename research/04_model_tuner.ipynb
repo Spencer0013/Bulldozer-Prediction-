{
 "cells": [
  {
   "cell_type": "code",
   "execution_count": null,
   "id": "a8bdfec3",
   "metadata": {},
   "outputs": [],
   "source": [
    "import os"
   ]
  },
  {
   "cell_type": "code",
   "execution_count": 2,
   "id": "2e951d3d",
   "metadata": {},
   "outputs": [
    {
     "data": {
      "text/plain": [
       "'c:\\\\Users\\\\ainao\\\\Downloads\\\\Projects\\\\Bulldozer-Prediction\\\\research'"
      ]
     },
     "execution_count": 2,
     "metadata": {},
     "output_type": "execute_result"
    }
   ],
   "source": [
    "%pwd"
   ]
  },
  {
   "cell_type": "code",
   "execution_count": 3,
   "id": "5d87ce59",
   "metadata": {},
   "outputs": [],
   "source": [
    "os.chdir(\"../\")"
   ]
  },
  {
   "cell_type": "code",
   "execution_count": 4,
   "id": "b0f1ea79",
   "metadata": {},
   "outputs": [
    {
     "data": {
      "text/plain": [
       "'c:\\\\Users\\\\ainao\\\\Downloads\\\\Projects\\\\Bulldozer-Prediction'"
      ]
     },
     "execution_count": 4,
     "metadata": {},
     "output_type": "execute_result"
    }
   ],
   "source": [
    "%pwd"
   ]
  },
  {
   "cell_type": "code",
   "execution_count": 5,
   "id": "38ef9c92",
   "metadata": {},
   "outputs": [],
   "source": [
    "from dataclasses import dataclass\n",
    "from pathlib import Path\n",
    "@dataclass\n",
    "class ModelTunerConfig:\n",
    "    root_dir : Path\n",
    "    tuner_save_path: str\n",
    "    param_dist: dict\n",
    "    cv_folds: int\n",
    "    scoring: str\n",
    "    model_save_path: Path"
   ]
  },
  {
   "cell_type": "code",
   "execution_count": 6,
   "id": "1cc49d2f",
   "metadata": {},
   "outputs": [],
   "source": [
    "from bullprediction.utils.common import read_yaml\n",
    "from bullprediction.constants import *\n",
    "from bullprediction.utils.common import create_directories, save_object\n",
    "from bullprediction.entity import DataTransformationConfig"
   ]
  },
  {
   "cell_type": "code",
   "execution_count": 7,
   "id": "02d69335",
   "metadata": {},
   "outputs": [],
   "source": [
    "class ConfigurationManager:\n",
    "    def __init__(self, config_filepath=CONFIG_FILE_PATH):\n",
    "        self.config = read_yaml(config_filepath)\n",
    "        create_directories([self.config.artifacts_root])\n",
    "\n",
    "    def get_data_transformation(self) -> DataTransformationConfig:\n",
    "        config = self.config.data_transformation\n",
    "\n",
    "        create_directories([config.root_dir])\n",
    "\n",
    "        data_transformation_config = DataTransformationConfig(\n",
    "            root_dir=config.root_dir,\n",
    "            train_path=config.train_path,\n",
    "            test_path=config.test_path,\n",
    "            train_data=config.train_data,\n",
    "            test_data=config.test_data,\n",
    "            preprocessor=config.preprocessor\n",
    "        )\n",
    "\n",
    "        return data_transformation_config\n",
    "\n",
    "\n",
    "    def get_model_tuner(self) -> ModelTunerConfig:\n",
    "        \n",
    "        config = self.config.model_tuner\n",
    "\n",
    "        create_directories([config.root_dir])\n",
    "\n",
    "        model_tuner_config = ModelTunerConfig(\n",
    "        root_dir=config.root_dir,\n",
    "        tuner_save_path = config.tuner_save_path,\n",
    "         param_dist = config.param_dist,\n",
    "        cv_folds = config.cv_folds,\n",
    "        scoring = config.scoring,\n",
    "        model_save_path = config.model_save_path\n",
    "         )\n",
    "\n",
    "        return model_tuner_config\n",
    "\n",
    "        \n",
    "\n",
    "    "
   ]
  },
  {
   "cell_type": "code",
   "execution_count": 8,
   "id": "3c853c74",
   "metadata": {},
   "outputs": [],
   "source": [
    "from bullprediction.utils.common import save_object\n",
    "from sklearn.model_selection import TimeSeriesSplit, RandomizedSearchCV\n",
    "from sklearn.metrics import mean_squared_log_error, make_scorer\n",
    "from catboost import CatBoostRegressor\n",
    "import numpy as np\n",
    "from bullprediction.entity import DataTransformationConfig\n",
    "from bullprediction.conponents.data_transformation import DataTransformation"
   ]
  },
  {
   "cell_type": "code",
   "execution_count": 9,
   "id": "eb87fc5a",
   "metadata": {},
   "outputs": [],
   "source": [
    "\n",
    "class ModelTuner:\n",
    "    def __init__(self, config: ModelTunerConfig, data_transformer: DataTransformation):\n",
    "        self.config = config\n",
    "        self.data_transformer = data_transformer\n",
    "\n",
    "    def _rmsle(self, y_true, y_pred):\n",
    "        \"\"\"Compute RMSLE after clipping to avoid log(0).\"\"\"\n",
    "        y_true = np.clip(y_true, a_min=0, a_max=None)\n",
    "        y_pred = np.clip(y_pred, a_min=0, a_max=None)\n",
    "        return np.sqrt(mean_squared_log_error(y_true, y_pred))\n",
    "\n",
    "    def tune(self):\n",
    "        (\n",
    "            X_train,\n",
    "            X_val,\n",
    "            X_test,\n",
    "            y_train,\n",
    "            y_val,\n",
    "            preprocessor_path\n",
    "        ) = self.data_transformer.initiate_data_transformation_and_split()\n",
    "\n",
    "        print(\"[ModelTuner] Starting tuning for CatBoostRegressor\")\n",
    "\n",
    "        param_dist = self.config.param_dist.get(\"CatBoosting Regressor\", None)\n",
    "\n",
    "        if not param_dist:\n",
    "            raise ValueError(\"[ModelTuner] No param dist\" \\\n",
    "            \"found for CatBoosting Regressor in config.\")\n",
    "\n",
    "        catboost_model = CatBoostRegressor(verbose=False, random_state=42)\n",
    "\n",
    "        scoring = make_scorer(self._rmsle, greater_is_better=False)\n",
    "        tscv = TimeSeriesSplit(n_splits=self.config.cv_folds)\n",
    "\n",
    "        random_search = RandomizedSearchCV(\n",
    "            estimator=catboost_model,\n",
    "            param_distributions=param_dist,\n",
    "            scoring=scoring,\n",
    "            n_iter=30,\n",
    "            cv=tscv,\n",
    "            n_jobs=-1,\n",
    "            verbose=1,\n",
    "            random_state=42\n",
    "        )\n",
    "\n",
    "        random_search.fit(X_train, y_train)\n",
    "\n",
    "        best_model = random_search.best_estimator_\n",
    "        best_params = random_search.best_params_\n",
    "\n",
    "        print(f\"[ModelTuner] Best parameters: {best_params}\")\n",
    "\n",
    "        if self.config.tuner_save_path:\n",
    "            save_object(self.config.tuner_save_path, best_model)\n",
    "            print(f\"[ModelTuner] Tuned CatBoost model saved to: {self.config.tuner_save_path}\")\n",
    "\n",
    "        return best_model, best_params\n",
    "\n",
    "\n"
   ]
  },
  {
   "cell_type": "code",
   "execution_count": 10,
   "id": "6865d2c8",
   "metadata": {},
   "outputs": [],
   "source": [
    "\n",
    "from bullprediction.conponents.model_trainer import ModelTrainer\n",
    "from bullprediction.config.configuration import DataTransformationConfig\n",
    "from bullprediction.conponents.data_transformation import DataTransformation"
   ]
  },
  {
   "cell_type": "code",
   "execution_count": 11,
   "id": "ed852ef7",
   "metadata": {},
   "outputs": [
    {
     "name": "stdout",
     "output_type": "stream",
     "text": [
      "[2025-06-28 15:13:17,053: INFO: common: yaml file: config\\config.yaml loaded successfully]\n",
      "[2025-06-28 15:13:17,053: INFO: common: created directory at: artifacts]\n",
      "[2025-06-28 15:13:17,053: INFO: common: created directory at: artifacts/data_transformation]\n",
      "[2025-06-28 15:13:17,053: INFO: common: created directory at: artifacts/model_tuner]\n",
      "[2025-06-28 15:13:19,617: INFO: data_transformation: Applying preprocessing pipeline to train and test data.]\n",
      "[ModelTuner] Starting tuning for CatBoostRegressor\n"
     ]
    },
    {
     "name": "stderr",
     "output_type": "stream",
     "text": [
      "c:\\Users\\ainao\\Downloads\\Projects\\Bulldozer-Prediction\\bull\\lib\\site-packages\\sklearn\\impute\\_base.py:637: UserWarning: Skipping features without any observed values: ['MachineHoursCurrentMeter']. At least one non-missing value is needed for imputation with strategy='median'.\n",
      "  warnings.warn(\n",
      "c:\\Users\\ainao\\Downloads\\Projects\\Bulldozer-Prediction\\bull\\lib\\site-packages\\sklearn\\impute\\_base.py:574: FutureWarning: Currently, when `keep_empty_feature=False` and `strategy=\"constant\"`, empty features are not dropped. This behaviour will change in version 1.8. Set `keep_empty_feature=True` to preserve this behaviour.\n",
      "  warnings.warn(\n",
      "c:\\Users\\ainao\\Downloads\\Projects\\Bulldozer-Prediction\\bull\\lib\\site-packages\\sklearn\\impute\\_base.py:637: UserWarning: Skipping features without any observed values: ['MachineHoursCurrentMeter']. At least one non-missing value is needed for imputation with strategy='median'.\n",
      "  warnings.warn(\n",
      "c:\\Users\\ainao\\Downloads\\Projects\\Bulldozer-Prediction\\bull\\lib\\site-packages\\sklearn\\impute\\_base.py:637: UserWarning: Skipping features without any observed values: ['MachineHoursCurrentMeter']. At least one non-missing value is needed for imputation with strategy='median'.\n",
      "  warnings.warn(\n"
     ]
    },
    {
     "name": "stdout",
     "output_type": "stream",
     "text": [
      "Fitting 3 folds for each of 30 candidates, totalling 90 fits\n",
      "[ModelTuner] Best parameters: {'learning_rate': 0.01, 'l2_leaf_reg': 3, 'iterations': 1000, 'grow_policy': 'SymmetricTree', 'depth': 6}\n",
      "[ModelTuner] Tuned CatBoost model saved to: artifacts/model_tuner/best_model.pkl\n"
     ]
    }
   ],
   "source": [
    "try:\n",
    "    config = ConfigurationManager()\n",
    "    data_transformation_config = config.get_data_transformation()\n",
    "    data_transformer = DataTransformation(config=data_transformation_config)\n",
    "    model_tuner_config = config.get_model_tuner()\n",
    "    model_tuner= ModelTuner(config=model_tuner_config, data_transformer=data_transformer)\n",
    "    model_tuner.tune()\n",
    "except Exception as e:\n",
    "    raise e"
   ]
  },
  {
   "cell_type": "code",
   "execution_count": null,
   "id": "6a84b0ec",
   "metadata": {},
   "outputs": [],
   "source": []
  }
 ],
 "metadata": {
  "kernelspec": {
   "display_name": "Python 3",
   "language": "python",
   "name": "python3"
  },
  "language_info": {
   "codemirror_mode": {
    "name": "ipython",
    "version": 3
   },
   "file_extension": ".py",
   "mimetype": "text/x-python",
   "name": "python",
   "nbconvert_exporter": "python",
   "pygments_lexer": "ipython3",
   "version": "3.10.18"
  }
 },
 "nbformat": 4,
 "nbformat_minor": 5
}
